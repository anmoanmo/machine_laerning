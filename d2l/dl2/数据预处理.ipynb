{
 "cells": [
  {
   "cell_type": "code",
   "execution_count": 1,
   "id": "initial_id",
   "metadata": {
    "collapsed": true,
    "ExecuteTime": {
     "end_time": "2024-04-22T05:43:14.384375Z",
     "start_time": "2024-04-22T05:43:12.537951Z"
    }
   },
   "outputs": [
    {
     "name": "stdout",
     "output_type": "stream",
     "text": [
      "tensor([ 0,  1,  2,  3,  4,  5,  6,  7,  8,  9, 10, 11])\n"
     ]
    }
   ],
   "source": [
    "import torch\n",
    "x = torch.arange(12)\n",
    "print(x)"
   ]
  },
  {
   "cell_type": "code",
   "outputs": [
    {
     "name": "stdout",
     "output_type": "stream",
     "text": [
      "tensor([[ 0,  1,  2,  3],\n",
      "        [ 4,  5,  6,  7],\n",
      "        [ 8,  9, 10, 11]])\n"
     ]
    }
   ],
   "source": [
    "print(x.reshape(3,4))"
   ],
   "metadata": {
    "collapsed": false,
    "ExecuteTime": {
     "end_time": "2024-04-22T05:43:16.629424Z",
     "start_time": "2024-04-22T05:43:16.624410Z"
    }
   },
   "id": "84c3b2d8cb98ab8c",
   "execution_count": 2
  },
  {
   "cell_type": "code",
   "outputs": [
    {
     "name": "stdout",
     "output_type": "stream",
     "text": [
      "12\n"
     ]
    }
   ],
   "source": [
    "print(x.numel())"
   ],
   "metadata": {
    "collapsed": false,
    "ExecuteTime": {
     "end_time": "2024-04-22T05:43:38.622984Z",
     "start_time": "2024-04-22T05:43:38.612749Z"
    }
   },
   "id": "471dc25310c5a38b",
   "execution_count": 3
  },
  {
   "cell_type": "code",
   "outputs": [
    {
     "name": "stdout",
     "output_type": "stream",
     "text": [
      "torch.Size([12])\n"
     ]
    }
   ],
   "source": [
    "print(x.shape)"
   ],
   "metadata": {
    "collapsed": false,
    "ExecuteTime": {
     "end_time": "2024-04-22T05:44:06.436732Z",
     "start_time": "2024-04-22T05:44:06.425216Z"
    }
   },
   "id": "e3e815e3427fe232",
   "execution_count": 4
  },
  {
   "cell_type": "code",
   "outputs": [
    {
     "name": "stdout",
     "output_type": "stream",
     "text": [
      "torch.Size([3, 4])\n"
     ]
    }
   ],
   "source": [
    "x= x.reshape(3,4)\n",
    "print(x.shape)"
   ],
   "metadata": {
    "collapsed": false,
    "ExecuteTime": {
     "end_time": "2024-04-22T05:44:26.210246Z",
     "start_time": "2024-04-22T05:44:26.203734Z"
    }
   },
   "id": "2a84eb6fdbed3e26",
   "execution_count": 5
  },
  {
   "cell_type": "code",
   "outputs": [
    {
     "name": "stdout",
     "output_type": "stream",
     "text": [
      "tensor([[2, 1, 4, 3],\n",
      "        [1, 2, 3, 4],\n",
      "        [4, 3, 2, 1]])\n",
      "tensor([[[2, 1, 4, 3],\n",
      "         [1, 2, 3, 4],\n",
      "         [4, 3, 2, 1]]])\n"
     ]
    }
   ],
   "source": [
    "import torch\n",
    "y = torch.tensor([[2,1,4,3],[1,2,3,4],[4,3,2,1]]) # 二维tensor\n",
    "z = torch.tensor([[[2,1,4,3],[1,2,3,4],[4,3,2,1]]]) # 三维tensor\n",
    "print(y)\n",
    "print(z)"
   ],
   "metadata": {
    "collapsed": false,
    "ExecuteTime": {
     "end_time": "2024-04-22T05:46:48.852132Z",
     "start_time": "2024-04-22T05:46:48.835614Z"
    }
   },
   "id": "a9169124ee95ea63",
   "execution_count": 6
  },
  {
   "cell_type": "code",
   "outputs": [
    {
     "name": "stdout",
     "output_type": "stream",
     "text": [
      "torch.Size([3, 4])\n",
      "torch.Size([1, 3, 4])\n"
     ]
    }
   ],
   "source": [
    "import torch\n",
    "y = torch.tensor([[2,1,4,3],[1,2,3,4],[4,3,2,1]]) # 二维tensor\n",
    "z = torch.tensor([[[2,1,4,3],[1,2,3,4],[4,3,2,1]]]) # 三维tensor\n",
    "print(y.shape)\n",
    "print(z.shape)"
   ],
   "metadata": {
    "collapsed": false,
    "ExecuteTime": {
     "end_time": "2024-04-22T05:46:53.405812Z",
     "start_time": "2024-04-22T05:46:53.393737Z"
    }
   },
   "id": "1e625f42a07379f0",
   "execution_count": 7
  },
  {
   "cell_type": "code",
   "outputs": [
    {
     "name": "stdout",
     "output_type": "stream",
     "text": [
      "tensor([ 3.,  4.,  6., 10.])\n",
      "tensor([-1.,  0.,  2.,  6.])\n",
      "tensor([ 2.,  4.,  8., 16.])\n",
      "tensor([0.5000, 1.0000, 2.0000, 4.0000])\n",
      "tensor([ 1.,  4., 16., 64.])\n"
     ]
    }
   ],
   "source": [
    "x = torch.tensor([1.0,2,4,8]) \n",
    "y = torch.tensor([2,2,2,2]) \n",
    "print(x+y)\n",
    "print(x-y)\n",
    "print(x*y)\n",
    "print(x/y)\n",
    "print(x**y) # **运算符是求幂运算"
   ],
   "metadata": {
    "collapsed": false,
    "ExecuteTime": {
     "end_time": "2024-04-22T05:47:02.096688Z",
     "start_time": "2024-04-22T05:47:02.060033Z"
    }
   },
   "id": "b6ea402379ee41ae",
   "execution_count": 8
  },
  {
   "cell_type": "code",
   "outputs": [
    {
     "name": "stdout",
     "output_type": "stream",
     "text": [
      "tensor([[ 0.,  1.,  2.,  3.],\n",
      "        [ 4.,  5.,  6.,  7.],\n",
      "        [ 8.,  9., 10., 11.],\n",
      "        [ 0.,  0.,  0.,  0.],\n",
      "        [ 0.,  0.,  0.,  0.],\n",
      "        [ 0.,  0.,  0.,  0.]])\n",
      "tensor([[ 0.,  1.,  2.,  3.,  0.,  0.,  0.,  0.],\n",
      "        [ 4.,  5.,  6.,  7.,  0.,  0.,  0.,  0.],\n",
      "        [ 8.,  9., 10., 11.,  0.,  0.,  0.,  0.]])\n"
     ]
    }
   ],
   "source": [
    "x = torch.arange(12,dtype=torch.float).reshape(3, 4)\n",
    "y = torch.zeros(12).reshape(3, 4)\n",
    "n = torch.cat((x,y),dim=0)\n",
    "m = torch.cat((x,y), dim=1)\n",
    "print(n)\n",
    "print(m)"
   ],
   "metadata": {
    "collapsed": false,
    "ExecuteTime": {
     "end_time": "2024-04-22T06:00:04.702548Z",
     "start_time": "2024-04-22T06:00:04.680362Z"
    }
   },
   "id": "ca9f129a49a55c6b",
   "execution_count": 9
  },
  {
   "cell_type": "code",
   "outputs": [
    {
     "data": {
      "text/plain": "tensor([[ True, False, False, False],\n        [False, False, False, False],\n        [False, False, False, False]])"
     },
     "execution_count": 10,
     "metadata": {},
     "output_type": "execute_result"
    }
   ],
   "source": [
    "x == y"
   ],
   "metadata": {
    "collapsed": false,
    "ExecuteTime": {
     "end_time": "2024-04-22T06:00:54.379641Z",
     "start_time": "2024-04-22T06:00:54.370318Z"
    }
   },
   "id": "e007c7ff7e862060",
   "execution_count": 10
  },
  {
   "cell_type": "code",
   "outputs": [
    {
     "data": {
      "text/plain": "tensor(66.)"
     },
     "execution_count": 11,
     "metadata": {},
     "output_type": "execute_result"
    }
   ],
   "source": [
    "x.sum()"
   ],
   "metadata": {
    "collapsed": false,
    "ExecuteTime": {
     "end_time": "2024-04-22T06:01:25.252437Z",
     "start_time": "2024-04-22T06:01:25.242520Z"
    }
   },
   "id": "e7c54a6dcf74abe7",
   "execution_count": 11
  },
  {
   "cell_type": "code",
   "outputs": [
    {
     "data": {
      "text/plain": "tensor(0.)"
     },
     "execution_count": 12,
     "metadata": {},
     "output_type": "execute_result"
    }
   ],
   "source": [
    "y.sum()"
   ],
   "metadata": {
    "collapsed": false,
    "ExecuteTime": {
     "end_time": "2024-04-22T06:01:38.971421Z",
     "start_time": "2024-04-22T06:01:38.959397Z"
    }
   },
   "id": "234be33cf7b09302",
   "execution_count": 12
  },
  {
   "cell_type": "code",
   "outputs": [
    {
     "name": "stdout",
     "output_type": "stream",
     "text": [
      "tensor([[0],\n",
      "        [1],\n",
      "        [2]])\n",
      "tensor([[0, 1]])\n",
      "tensor([[0, 1],\n",
      "        [1, 2],\n",
      "        [2, 3]])\n"
     ]
    }
   ],
   "source": [
    "import torch\n",
    "a = torch.arange(3).reshape((3,1))\n",
    "b = torch.arange(2).reshape((1,2))\n",
    "print(a)\n",
    "print(b)\n",
    "print(a+b) # a会复制出一个3*2的矩阵，b复制出一个3*2的矩阵，然后再相加，会得到一个3*2矩阵  "
   ],
   "metadata": {
    "collapsed": false,
    "ExecuteTime": {
     "end_time": "2024-04-22T06:02:20.457634Z",
     "start_time": "2024-04-22T06:02:20.443384Z"
    }
   },
   "id": "6f39a81f65e08863",
   "execution_count": 13
  },
  {
   "cell_type": "code",
   "outputs": [
    {
     "name": "stdout",
     "output_type": "stream",
     "text": [
      "tensor([[ 0.,  1.,  2.,  3.],\n",
      "        [ 4.,  5.,  6.,  7.],\n",
      "        [ 8.,  9., 10., 11.]])\n"
     ]
    }
   ],
   "source": [
    "print(x)"
   ],
   "metadata": {
    "collapsed": false,
    "ExecuteTime": {
     "end_time": "2024-04-22T06:07:32.609550Z",
     "start_time": "2024-04-22T06:07:32.600499Z"
    }
   },
   "id": "7d0d574e07575aea",
   "execution_count": 14
  },
  {
   "cell_type": "code",
   "outputs": [
    {
     "name": "stdout",
     "output_type": "stream",
     "text": [
      "tensor([ 8.,  9., 10., 11.])\n",
      "tensor([[ 4.,  5.,  6.,  7.],\n",
      "        [ 8.,  9., 10., 11.]])\n"
     ]
    }
   ],
   "source": [
    "print(x[-1])\n",
    "print(x[1:3])"
   ],
   "metadata": {
    "collapsed": false,
    "ExecuteTime": {
     "end_time": "2024-04-22T06:08:01.977176Z",
     "start_time": "2024-04-22T06:08:01.966116Z"
    }
   },
   "id": "2ccfffd73e747dfc",
   "execution_count": 15
  },
  {
   "cell_type": "code",
   "outputs": [
    {
     "ename": "IndexError",
     "evalue": "index 9 is out of bounds for dimension 1 with size 4",
     "output_type": "error",
     "traceback": [
      "\u001B[1;31m---------------------------------------------------------------------------\u001B[0m",
      "\u001B[1;31mIndexError\u001B[0m                                Traceback (most recent call last)",
      "Cell \u001B[1;32mIn[16], line 1\u001B[0m\n\u001B[1;32m----> 1\u001B[0m \u001B[38;5;28mprint\u001B[39m(\u001B[43mx\u001B[49m\u001B[43m[\u001B[49m\u001B[38;5;241;43m1\u001B[39;49m\u001B[43m,\u001B[49m\u001B[38;5;241;43m9\u001B[39;49m\u001B[43m]\u001B[49m)\n",
      "\u001B[1;31mIndexError\u001B[0m: index 9 is out of bounds for dimension 1 with size 4"
     ]
    }
   ],
   "source": [
    "print(x[1,9])"
   ],
   "metadata": {
    "collapsed": false,
    "ExecuteTime": {
     "end_time": "2024-04-22T06:08:33.462114Z",
     "start_time": "2024-04-22T06:08:32.169583Z"
    }
   },
   "id": "dd4b1af28fddc575",
   "execution_count": 16
  },
  {
   "cell_type": "code",
   "outputs": [
    {
     "name": "stdout",
     "output_type": "stream",
     "text": [
      "tensor(7.)\n"
     ]
    }
   ],
   "source": [
    "print(x[1,3])"
   ],
   "metadata": {
    "collapsed": false,
    "ExecuteTime": {
     "end_time": "2024-04-22T06:08:39.781420Z",
     "start_time": "2024-04-22T06:08:39.774902Z"
    }
   },
   "id": "f0f201e3573e2333",
   "execution_count": 17
  },
  {
   "cell_type": "code",
   "outputs": [
    {
     "name": "stdout",
     "output_type": "stream",
     "text": [
      "False\n"
     ]
    }
   ],
   "source": [
    "import torch\n",
    "x = torch.arange(12,dtype=torch.float32).reshape((3,4))\n",
    "y = torch.tensor([[2.0,1,4,3],[1,2,3,4],[4,3,2,1]])\n",
    "before = id(y) \n",
    "y = x + y\n",
    "print(id(y) == before) # 运行操作后，赋值后的y的id和原来的id不一样   "
   ],
   "metadata": {
    "collapsed": false,
    "ExecuteTime": {
     "end_time": "2024-04-22T06:10:30.249080Z",
     "start_time": "2024-04-22T06:10:30.242565Z"
    }
   },
   "id": "15f430488b92e01",
   "execution_count": 18
  },
  {
   "cell_type": "code",
   "outputs": [
    {
     "name": "stdout",
     "output_type": "stream",
     "text": [
      "id(z): 2189424073840\n",
      "id(z): 2189424073840\n"
     ]
    }
   ],
   "source": [
    "import torch\n",
    "x = torch.arange(12,dtype=torch.float32).reshape((3,4))\n",
    "y = torch.tensor([[2.0,1,4,3],[1,2,3,4],[4,3,2,1]])\n",
    "z = torch.zeros_like(y) # z 的数据类型、尺寸和y一样，里面的元素全为0\n",
    "print(\"id(z):\",id(z))    \n",
    "z[:] = x + y\n",
    "print(\"id(z):\",id(z))  "
   ],
   "metadata": {
    "collapsed": false,
    "ExecuteTime": {
     "end_time": "2024-04-22T06:10:54.163937Z",
     "start_time": "2024-04-22T06:10:54.152426Z"
    }
   },
   "id": "4dac25d6bd8bf179",
   "execution_count": 19
  },
  {
   "cell_type": "code",
   "outputs": [
    {
     "name": "stdout",
     "output_type": "stream",
     "text": [
      "True\n"
     ]
    }
   ],
   "source": [
    "#如果在后续计算中没有重复使用X，即内存不会过多复制，也可以使用X[:] = X + Y 或 X += Y 来减少操作的内存开销。\n",
    "import torch\n",
    "x = torch.arange(12,dtype=torch.float32).reshape((3,4))\n",
    "y = torch.tensor([[2.0,1,4,3],[1,2,3,4],[4,3,2,1]])\n",
    "before = id(x) \n",
    "x += y\n",
    "print(id(x) == before)   "
   ],
   "metadata": {
    "collapsed": false,
    "ExecuteTime": {
     "end_time": "2024-04-22T06:18:46.393628Z",
     "start_time": "2024-04-22T06:18:46.385390Z"
    }
   },
   "id": "46ba2633b5d5dfe6",
   "execution_count": 36
  },
  {
   "cell_type": "code",
   "outputs": [
    {
     "name": "stdout",
     "output_type": "stream",
     "text": [
      "<class 'torch.Tensor'>\n"
     ]
    }
   ],
   "source": [
    "print(type(x))"
   ],
   "metadata": {
    "collapsed": false,
    "ExecuteTime": {
     "end_time": "2024-04-22T06:15:17.066437Z",
     "start_time": "2024-04-22T06:15:17.055771Z"
    }
   },
   "id": "adf7ee83410ec13f",
   "execution_count": 22
  },
  {
   "cell_type": "code",
   "outputs": [
    {
     "name": "stdout",
     "output_type": "stream",
     "text": [
      "<class 'numpy.ndarray'>\n"
     ]
    }
   ],
   "source": [
    "import numpy as np\n",
    "print(type(x.numpy()))"
   ],
   "metadata": {
    "collapsed": false,
    "ExecuteTime": {
     "end_time": "2024-04-22T06:18:49.348104Z",
     "start_time": "2024-04-22T06:18:49.338973Z"
    }
   },
   "id": "2788e012d1ca0996",
   "execution_count": 37
  },
  {
   "cell_type": "code",
   "outputs": [
    {
     "name": "stdout",
     "output_type": "stream",
     "text": [
      "tensor([[ 2.,  2.,  6.,  6.],\n",
      "        [ 5.,  7.,  9., 11.],\n",
      "        [12., 12., 12., 12.]])\n"
     ]
    }
   ],
   "source": [
    "print(x)"
   ],
   "metadata": {
    "collapsed": false,
    "ExecuteTime": {
     "end_time": "2024-04-22T06:18:52.154984Z",
     "start_time": "2024-04-22T06:18:52.136470Z"
    }
   },
   "id": "a241f9340c31cc00",
   "execution_count": 38
  },
  {
   "cell_type": "code",
   "outputs": [
    {
     "data": {
      "text/plain": "array([[ 2.,  2.,  6.,  6.],\n       [ 5.,  7.,  9., 11.],\n       [12., 12., 12., 12.]], dtype=float32)"
     },
     "execution_count": 39,
     "metadata": {},
     "output_type": "execute_result"
    }
   ],
   "source": [
    "x.numpy()"
   ],
   "metadata": {
    "collapsed": false,
    "ExecuteTime": {
     "end_time": "2024-04-22T06:18:56.314599Z",
     "start_time": "2024-04-22T06:18:56.304477Z"
    }
   },
   "id": "e15f694f95d84e63",
   "execution_count": 39
  },
  {
   "cell_type": "code",
   "outputs": [
    {
     "name": "stdout",
     "output_type": "stream",
     "text": [
      "tensor([[ 2.,  2.,  6.,  6.],\n",
      "        [ 5.,  7.,  9., 11.],\n",
      "        [12., 12., 12., 12.]])\n"
     ]
    }
   ],
   "source": [
    "print(x)"
   ],
   "metadata": {
    "collapsed": false,
    "ExecuteTime": {
     "end_time": "2024-04-22T06:18:59.603132Z",
     "start_time": "2024-04-22T06:18:59.594503Z"
    }
   },
   "id": "44741a8498dd6797",
   "execution_count": 40
  },
  {
   "cell_type": "code",
   "outputs": [
    {
     "name": "stdout",
     "output_type": "stream",
     "text": [
      "<class 'torch.Tensor'>\n"
     ]
    }
   ],
   "source": [
    "print(type(x))"
   ],
   "metadata": {
    "collapsed": false,
    "ExecuteTime": {
     "end_time": "2024-04-22T06:19:02.151986Z",
     "start_time": "2024-04-22T06:19:02.133989Z"
    }
   },
   "id": "1c4e672d63c713e6",
   "execution_count": 41
  },
  {
   "cell_type": "code",
   "outputs": [],
   "source": [
    "x = x.numpy()"
   ],
   "metadata": {
    "collapsed": false,
    "ExecuteTime": {
     "end_time": "2024-04-22T06:19:10.193824Z",
     "start_time": "2024-04-22T06:19:10.176721Z"
    }
   },
   "id": "4d107678b7785a35",
   "execution_count": 42
  },
  {
   "cell_type": "code",
   "outputs": [
    {
     "name": "stdout",
     "output_type": "stream",
     "text": [
      "<class 'numpy.ndarray'>\n",
      "[[ 2.  2.  6.  6.]\n",
      " [ 5.  7.  9. 11.]\n",
      " [12. 12. 12. 12.]]\n"
     ]
    }
   ],
   "source": [
    "print(type(x))\n",
    "print(x)"
   ],
   "metadata": {
    "collapsed": false,
    "ExecuteTime": {
     "end_time": "2024-04-22T06:19:22.096369Z",
     "start_time": "2024-04-22T06:19:22.089368Z"
    }
   },
   "id": "7154a4b0cdc42581",
   "execution_count": 43
  },
  {
   "cell_type": "code",
   "outputs": [
    {
     "data": {
      "text/plain": "array([[ 2.,  2.,  6.,  6.],\n       [ 5.,  7.,  9., 11.],\n       [12., 12., 12., 12.]], dtype=float32)"
     },
     "execution_count": 44,
     "metadata": {},
     "output_type": "execute_result"
    }
   ],
   "source": [
    "x"
   ],
   "metadata": {
    "collapsed": false,
    "ExecuteTime": {
     "end_time": "2024-04-22T06:19:30.814319Z",
     "start_time": "2024-04-22T06:19:30.804259Z"
    }
   },
   "id": "96a0ce574c6427e4",
   "execution_count": 44
  },
  {
   "cell_type": "code",
   "outputs": [
    {
     "name": "stdout",
     "output_type": "stream",
     "text": [
      ".\\01_Data\\01_house_tiny.csv\n"
     ]
    }
   ],
   "source": [
    "import os\n",
    "os.makedirs(os.path.join('.','01_Data'), exist_ok=True)\n",
    "data_file = os.path.join(os.path.join('.','01_Data','01_house_tiny.csv'))\n",
    "print(data_file)\n",
    "with open(data_file,'w') as f:\n",
    "    f.write('NumRooms,Alley,Price\\n') # 列名\n",
    "    f.write('NA,Pave,127500\\n')  # 每行表示一个数据样本\n",
    "    f.write('2,NA,106000\\n')\n",
    "    f.write('4,NA,178100\\n')\n",
    "    f.write('NA,NA,140000\\n')"
   ],
   "metadata": {
    "collapsed": false,
    "ExecuteTime": {
     "end_time": "2024-04-22T07:04:54.860852Z",
     "start_time": "2024-04-22T07:04:54.841328Z"
    }
   },
   "id": "8f69684b25d7271",
   "execution_count": 67
  },
  {
   "cell_type": "code",
   "outputs": [
    {
     "name": "stdout",
     "output_type": "stream",
     "text": [
      "   NumRooms Alley   Price\n",
      "0       NaN  Pave  127500\n",
      "1       2.0   NaN  106000\n",
      "2       4.0   NaN  178100\n",
      "3       NaN   NaN  140000\n"
     ]
    }
   ],
   "source": [
    "import pandas as pd\n",
    "import os\n",
    "\n",
    "data = pd.read_csv(data_file)\n",
    "print(data)\n"
   ],
   "metadata": {
    "collapsed": false,
    "ExecuteTime": {
     "end_time": "2024-04-22T07:04:57.306805Z",
     "start_time": "2024-04-22T07:04:57.289800Z"
    }
   },
   "id": "b3867d43484b2d43",
   "execution_count": 68
  },
  {
   "cell_type": "markdown",
   "source": [],
   "metadata": {
    "collapsed": false
   },
   "id": "b639e4f81b55f97e"
  },
  {
   "cell_type": "code",
   "outputs": [
    {
     "name": "stdout",
     "output_type": "stream",
     "text": [
      "Index(['NumRooms'], dtype='object')\n",
      "   NumRooms Alley\n",
      "0       3.0  Pave\n",
      "1       2.0   NaN\n",
      "2       4.0   NaN\n",
      "3       3.0   NaN\n"
     ]
    }
   ],
   "source": [
    "inputs, outputs = data.iloc[:,0:2], data.iloc[:,2]\n",
    "# 处理数值型数据：对数值列用均值填充NaN\n",
    "numeric_columns = inputs.select_dtypes(include=[ 'float64', 'int64'])\n",
    "print(numeric_columns.columns)\n",
    "inputs[numeric_columns.columns] = numeric_columns.fillna(numeric_columns.mean())\n",
    "\n",
    "print(inputs)"
   ],
   "metadata": {
    "collapsed": false,
    "ExecuteTime": {
     "end_time": "2024-04-22T07:28:08.041674Z",
     "start_time": "2024-04-22T07:28:08.032168Z"
    }
   },
   "id": "3c591fc78c3bc0e7",
   "execution_count": 87
  },
  {
   "cell_type": "code",
   "outputs": [
    {
     "name": "stdout",
     "output_type": "stream",
     "text": [
      "   NumRooms  Alley_Pave  Alley_nan\n",
      "0       3.0         1.0        0.0\n",
      "1       2.0         0.0        1.0\n",
      "2       4.0         0.0        1.0\n",
      "3       3.0         0.0        1.0\n"
     ]
    }
   ],
   "source": [
    "inputs = pd.get_dummies(inputs) # \n",
    "print(inputs)"
   ],
   "metadata": {
    "collapsed": false,
    "ExecuteTime": {
     "end_time": "2024-04-22T07:28:54.713014Z",
     "start_time": "2024-04-22T07:28:54.691414Z"
    }
   },
   "id": "d4a420689ea53686",
   "execution_count": 94
  },
  {
   "cell_type": "code",
   "outputs": [
    {
     "name": "stdout",
     "output_type": "stream",
     "text": [
      "tensor([[3., 1., 0.],\n",
      "        [2., 0., 1.],\n",
      "        [4., 0., 1.],\n",
      "        [3., 0., 1.]], dtype=torch.float64)\n",
      "tensor([127500, 106000, 178100, 140000])\n"
     ]
    }
   ],
   "source": [
    "x, y = torch.tensor(inputs.values), torch.tensor(outputs.values)\n",
    "print(x)\n",
    "print(y)"
   ],
   "metadata": {
    "collapsed": false,
    "ExecuteTime": {
     "end_time": "2024-04-22T07:29:08.020537Z",
     "start_time": "2024-04-22T07:29:08.003909Z"
    }
   },
   "id": "7bfc0202574a3aee",
   "execution_count": 95
  },
  {
   "cell_type": "code",
   "outputs": [],
   "source": [
    "import pandas as pd\n",
    "\n",
    "data = {\n",
    "    'color': ['red', 'blue', 'green', 'blue'],\n",
    "    'size': ['S', 'M', 'L', 'S']\n",
    "}\n",
    "df = pd.DataFrame(data)\n",
    "# 对分类数据进行独热编码\n",
    "dummies = pd.get_dummies(df)\n"
   ],
   "metadata": {
    "collapsed": false,
    "ExecuteTime": {
     "end_time": "2024-04-22T07:30:37.775697Z",
     "start_time": "2024-04-22T07:30:37.758698Z"
    }
   },
   "id": "d1c553983acbf83",
   "execution_count": 100
  },
  {
   "cell_type": "code",
   "outputs": [
    {
     "data": {
      "text/plain": "   color size\n0    red    S\n1   blue    M\n2  green    L\n3   blue    S",
      "text/html": "<div>\n<style scoped>\n    .dataframe tbody tr th:only-of-type {\n        vertical-align: middle;\n    }\n\n    .dataframe tbody tr th {\n        vertical-align: top;\n    }\n\n    .dataframe thead th {\n        text-align: right;\n    }\n</style>\n<table border=\"1\" class=\"dataframe\">\n  <thead>\n    <tr style=\"text-align: right;\">\n      <th></th>\n      <th>color</th>\n      <th>size</th>\n    </tr>\n  </thead>\n  <tbody>\n    <tr>\n      <th>0</th>\n      <td>red</td>\n      <td>S</td>\n    </tr>\n    <tr>\n      <th>1</th>\n      <td>blue</td>\n      <td>M</td>\n    </tr>\n    <tr>\n      <th>2</th>\n      <td>green</td>\n      <td>L</td>\n    </tr>\n    <tr>\n      <th>3</th>\n      <td>blue</td>\n      <td>S</td>\n    </tr>\n  </tbody>\n</table>\n</div>"
     },
     "execution_count": 103,
     "metadata": {},
     "output_type": "execute_result"
    }
   ],
   "source": [
    "df"
   ],
   "metadata": {
    "collapsed": false,
    "ExecuteTime": {
     "end_time": "2024-04-22T07:30:58.214511Z",
     "start_time": "2024-04-22T07:30:58.201863Z"
    }
   },
   "id": "519491d88b4e606a",
   "execution_count": 103
  },
  {
   "cell_type": "code",
   "outputs": [
    {
     "data": {
      "text/plain": "   color_blue  color_green  color_red  size_L  size_M  size_S\n0       False        False       True   False   False    True\n1        True        False      False   False    True   False\n2       False         True      False    True   False   False\n3        True        False      False   False   False    True",
      "text/html": "<div>\n<style scoped>\n    .dataframe tbody tr th:only-of-type {\n        vertical-align: middle;\n    }\n\n    .dataframe tbody tr th {\n        vertical-align: top;\n    }\n\n    .dataframe thead th {\n        text-align: right;\n    }\n</style>\n<table border=\"1\" class=\"dataframe\">\n  <thead>\n    <tr style=\"text-align: right;\">\n      <th></th>\n      <th>color_blue</th>\n      <th>color_green</th>\n      <th>color_red</th>\n      <th>size_L</th>\n      <th>size_M</th>\n      <th>size_S</th>\n    </tr>\n  </thead>\n  <tbody>\n    <tr>\n      <th>0</th>\n      <td>False</td>\n      <td>False</td>\n      <td>True</td>\n      <td>False</td>\n      <td>False</td>\n      <td>True</td>\n    </tr>\n    <tr>\n      <th>1</th>\n      <td>True</td>\n      <td>False</td>\n      <td>False</td>\n      <td>False</td>\n      <td>True</td>\n      <td>False</td>\n    </tr>\n    <tr>\n      <th>2</th>\n      <td>False</td>\n      <td>True</td>\n      <td>False</td>\n      <td>True</td>\n      <td>False</td>\n      <td>False</td>\n    </tr>\n    <tr>\n      <th>3</th>\n      <td>True</td>\n      <td>False</td>\n      <td>False</td>\n      <td>False</td>\n      <td>False</td>\n      <td>True</td>\n    </tr>\n  </tbody>\n</table>\n</div>"
     },
     "execution_count": 102,
     "metadata": {},
     "output_type": "execute_result"
    }
   ],
   "source": [
    "dummies"
   ],
   "metadata": {
    "collapsed": false,
    "ExecuteTime": {
     "end_time": "2024-04-22T07:30:43.261084Z",
     "start_time": "2024-04-22T07:30:43.246956Z"
    }
   },
   "id": "fe2e93bd1d5e3ceb",
   "execution_count": 102
  },
  {
   "cell_type": "code",
   "outputs": [],
   "source": [],
   "metadata": {
    "collapsed": false
   },
   "id": "4141719006c94759"
  }
 ],
 "metadata": {
  "kernelspec": {
   "display_name": "Python 3",
   "language": "python",
   "name": "python3"
  },
  "language_info": {
   "codemirror_mode": {
    "name": "ipython",
    "version": 2
   },
   "file_extension": ".py",
   "mimetype": "text/x-python",
   "name": "python",
   "nbconvert_exporter": "python",
   "pygments_lexer": "ipython2",
   "version": "2.7.6"
  }
 },
 "nbformat": 4,
 "nbformat_minor": 5
}
