{
 "cells": [
  {
   "cell_type": "code",
   "execution_count": 1,
   "id": "initial_id",
   "metadata": {
    "collapsed": true,
    "ExecuteTime": {
     "end_time": "2024-04-22T08:25:32.025746Z",
     "start_time": "2024-04-22T08:25:31.914115Z"
    }
   },
   "outputs": [
    {
     "name": "stdout",
     "output_type": "stream",
     "text": [
      "沿轴0求和结果:\n",
      " [[14 16 18 20]\n",
      " [22 24 26 28]\n",
      " [30 32 34 36]]\n",
      "沿轴1求和结果:\n",
      " [[15 18 21 24]\n",
      " [51 54 57 60]]\n",
      "沿轴2求和结果:\n",
      " [[10 26 42]\n",
      " [58 74 90]]\n",
      "总求和结果: 300\n"
     ]
    }
   ],
   "source": [
    "import numpy as np\n",
    "\n",
    "# 创建一个3维数组，形状为 (2, 3, 4)\n",
    "array = np.array([[[ 1,  2,  3,  4],\n",
    "                   [ 5,  6,  7,  8],\n",
    "                   [ 9, 10, 11, 12]],\n",
    "                  \n",
    "                  [[13, 14, 15, 16],\n",
    "                   [17, 18, 19, 20],\n",
    "                   [21, 22, 23, 24]]])\n",
    "\n",
    "# 沿着轴0求和 (将两个2x3x4的矩阵相加，变为一个2x3x4的矩阵)\n",
    "sum_axis0 = np.sum(array, axis=0)\n",
    "print(\"沿轴0求和结果:\\n\", sum_axis0)\n",
    "\n",
    "# 沿着轴1求和 (将每个2x3x4中的3x4矩阵的行相加，变为2x4)\n",
    "sum_axis1 = np.sum(array, axis=1)\n",
    "print(\"沿轴1求和结果:\\n\", sum_axis1)\n",
    "\n",
    "# 沿着轴2求和 (将每个2x3x4中的3x4矩阵的列相加，变为2x3)\n",
    "sum_axis2 = np.sum(array, axis=2)\n",
    "print(\"沿轴2求和结果:\\n\", sum_axis2)\n",
    "\n",
    "# 对整个数组求和，得到一个数值\n",
    "total_sum = np.sum(array)\n",
    "print(\"总求和结果:\", total_sum)\n"
   ]
  },
  {
   "cell_type": "code",
   "outputs": [
    {
     "name": "stdout",
     "output_type": "stream",
     "text": [
      "tensor([[ 6.],\n",
      "        [22.],\n",
      "        [38.],\n",
      "        [54.],\n",
      "        [70.]])\n",
      "torch.Size([5, 1])\n"
     ]
    }
   ],
   "source": [
    "import torch\n",
    "A = torch.arange(20, dtype=torch.float32).reshape(5, 4)\n",
    "sum_A = A.sum(axis=1,keepdims=True) # keepdims=True不丢掉维度，否则三维矩阵按一个维度求和就会变为二维矩阵，二维矩阵若按一个维度求和就会变为一维向量\n",
    "print(sum_A)\n",
    "print(sum_A.shape) # 维度没有丢失，方便使用广播"
   ],
   "metadata": {
    "collapsed": false,
    "ExecuteTime": {
     "end_time": "2024-04-22T08:28:47.862852Z",
     "start_time": "2024-04-22T08:28:44.915796Z"
    }
   },
   "id": "db9258b5406e03e9",
   "execution_count": 2
  },
  {
   "cell_type": "code",
   "outputs": [
    {
     "name": "stdout",
     "output_type": "stream",
     "text": [
      "tensor([[0.0000, 0.1667, 0.3333, 0.5000],\n",
      "        [0.1818, 0.2273, 0.2727, 0.3182],\n",
      "        [0.2105, 0.2368, 0.2632, 0.2895],\n",
      "        [0.2222, 0.2407, 0.2593, 0.2778],\n",
      "        [0.2286, 0.2429, 0.2571, 0.2714]])\n"
     ]
    }
   ],
   "source": [
    "import torch\n",
    "A = torch.arange(20, dtype=torch.float32).reshape(5, 4)\n",
    "sum_A = A.sum(axis=1,keepdims=True) # keepdims=True不丢掉维度，否则三维矩阵按一个维度求和就会变为二维矩阵，二维矩阵若按一个维度求和就会变为一维向量\n",
    "print(A/sum_A) "
   ],
   "metadata": {
    "collapsed": false,
    "ExecuteTime": {
     "end_time": "2024-04-22T08:29:03.342114Z",
     "start_time": "2024-04-22T08:29:03.331594Z"
    }
   },
   "id": "f7ecc231aa6b8ae",
   "execution_count": 3
  },
  {
   "cell_type": "code",
   "outputs": [
    {
     "name": "stdout",
     "output_type": "stream",
     "text": [
      "tensor([[ 0.,  1.,  2.,  3.],\n",
      "        [ 4.,  6.,  8., 10.],\n",
      "        [12., 15., 18., 21.],\n",
      "        [24., 28., 32., 36.],\n",
      "        [40., 45., 50., 55.]])\n"
     ]
    }
   ],
   "source": [
    "import torch\n",
    "A = torch.arange(20, dtype=torch.float32).reshape(5, 4)\n",
    "print(A.cumsum(axis=0)) "
   ],
   "metadata": {
    "collapsed": false,
    "ExecuteTime": {
     "end_time": "2024-04-22T08:29:52.365839Z",
     "start_time": "2024-04-22T08:29:52.348322Z"
    }
   },
   "id": "691d94d6ec3b2f0e",
   "execution_count": 4
  },
  {
   "cell_type": "code",
   "outputs": [
    {
     "name": "stdout",
     "output_type": "stream",
     "text": [
      "tensor([0., 1., 2., 3.])\n",
      "tensor([1., 1., 1., 1.])\n",
      "tensor(6.)\n"
     ]
    }
   ],
   "source": [
    "import torch\n",
    "x = torch.arange(4,dtype=torch.float32)\n",
    "y = torch.ones(4, dtype=torch.float32)\n",
    "print(x)\n",
    "print(y)\n",
    "print(torch.dot(x,y))"
   ],
   "metadata": {
    "collapsed": false,
    "ExecuteTime": {
     "end_time": "2024-04-22T08:30:07.042533Z",
     "start_time": "2024-04-22T08:30:07.015441Z"
    }
   },
   "id": "76651fdbd8e9a122",
   "execution_count": 5
  },
  {
   "cell_type": "code",
   "outputs": [
    {
     "name": "stdout",
     "output_type": "stream",
     "text": [
      "tensor([0., 1., 2., 3.])\n",
      "tensor([1., 1., 1., 1.])\n",
      "tensor(6.)\n"
     ]
    }
   ],
   "source": [
    "# 点积是相同位置的按元素成绩的和。\n",
    "import torch\n",
    "x = torch.arange(4,dtype=torch.float32)\n",
    "y = torch.ones(4, dtype=torch.float32)\n",
    "print(x)\n",
    "print(y)\n",
    "print(torch.sum(x*y))"
   ],
   "metadata": {
    "collapsed": false,
    "ExecuteTime": {
     "end_time": "2024-04-22T08:30:44.008145Z",
     "start_time": "2024-04-22T08:30:43.999145Z"
    }
   },
   "id": "e17f5c22b91dd783",
   "execution_count": 7
  },
  {
   "cell_type": "code",
   "outputs": [
    {
     "name": "stdout",
     "output_type": "stream",
     "text": [
      "tensor(6.)\n"
     ]
    }
   ],
   "source": [
    "# 可以通过执行按元素乘法，然后进行求和来表示两个向量的点积。\n",
    "import torch\n",
    "x = torch.arange(4,dtype=torch.float32)\n",
    "y = torch.ones(4, dtype=torch.float32)\n",
    "print(torch.sum(x*y))\n"
   ],
   "metadata": {
    "collapsed": false,
    "ExecuteTime": {
     "end_time": "2024-04-22T08:32:41.915529Z",
     "start_time": "2024-04-22T08:32:41.902529Z"
    }
   },
   "id": "8f2d57c9e2a1a811",
   "execution_count": 8
  },
  {
   "cell_type": "code",
   "outputs": [
    {
     "name": "stdout",
     "output_type": "stream",
     "text": [
      "torch.Size([5, 4])\n",
      "torch.Size([4])\n",
      "tensor([ 14.,  38.,  62.,  86., 110.])\n"
     ]
    }
   ],
   "source": [
    "import torch\n",
    "A = torch.arange(20, dtype=torch.float32).reshape(5, 4)\n",
    "x = torch.arange(4,dtype=torch.float32)\n",
    "print(A.shape)\n",
    "print(x.shape)\n",
    "print(torch.mv(A,x))"
   ],
   "metadata": {
    "collapsed": false,
    "ExecuteTime": {
     "end_time": "2024-04-22T08:33:03.430086Z",
     "start_time": "2024-04-22T08:33:03.408064Z"
    }
   },
   "id": "92052abf6587d44b",
   "execution_count": 10
  },
  {
   "cell_type": "code",
   "outputs": [
    {
     "name": "stdout",
     "output_type": "stream",
     "text": [
      "tensor([[ 0.,  1.,  2.,  3.],\n",
      "        [ 4.,  5.,  6.,  7.],\n",
      "        [ 8.,  9., 10., 11.],\n",
      "        [12., 13., 14., 15.],\n",
      "        [16., 17., 18., 19.]])\n",
      "tensor([[1., 1., 1.],\n",
      "        [1., 1., 1.],\n",
      "        [1., 1., 1.],\n",
      "        [1., 1., 1.]])\n",
      "tensor([[ 6.,  6.,  6.],\n",
      "        [22., 22., 22.],\n",
      "        [38., 38., 38.],\n",
      "        [54., 54., 54.],\n",
      "        [70., 70., 70.]])\n"
     ]
    }
   ],
   "source": [
    "import torch\n",
    "A = torch.arange(20, dtype=torch.float32).reshape(5, 4)\n",
    "B = torch.ones(4,3)\n",
    "print(A)\n",
    "print(B)\n",
    "print(torch.mm(A,B))"
   ],
   "metadata": {
    "collapsed": false,
    "ExecuteTime": {
     "end_time": "2024-04-22T08:35:03.394106Z",
     "start_time": "2024-04-22T08:35:03.378987Z"
    }
   },
   "id": "1ff486ee94886d8b",
   "execution_count": 11
  },
  {
   "cell_type": "code",
   "outputs": [
    {
     "name": "stdout",
     "output_type": "stream",
     "text": [
      "tensor(5.)\n"
     ]
    }
   ],
   "source": [
    "import torch\n",
    "u = torch.tensor([3.0,-4.0])\n",
    "print(torch.norm(u))\n"
   ],
   "metadata": {
    "collapsed": false,
    "ExecuteTime": {
     "end_time": "2024-04-22T11:30:46.058263Z",
     "start_time": "2024-04-22T11:30:46.041756Z"
    }
   },
   "id": "1d035e58c8c43a0",
   "execution_count": 12
  },
  {
   "cell_type": "code",
   "outputs": [
    {
     "name": "stdout",
     "output_type": "stream",
     "text": [
      "tensor(7.)\n"
     ]
    }
   ],
   "source": [
    "import torch\n",
    "u = torch.tensor([3.0,-4.0])\n",
    "print(torch.abs(u).sum())"
   ],
   "metadata": {
    "collapsed": false,
    "ExecuteTime": {
     "end_time": "2024-04-22T11:30:48.782879Z",
     "start_time": "2024-04-22T11:30:48.770863Z"
    }
   },
   "id": "f912b7fbdea52b0a",
   "execution_count": 13
  },
  {
   "cell_type": "code",
   "outputs": [],
   "source": [
    "\n",
    "import torch\n",
    "print(torch.norm(torch.ones((4,9)))) # 把矩阵拉成一个向量，然后再求和"
   ],
   "metadata": {
    "collapsed": false
   },
   "id": "527909e31883ed11"
  }
 ],
 "metadata": {
  "kernelspec": {
   "display_name": "Python 3",
   "language": "python",
   "name": "python3"
  },
  "language_info": {
   "codemirror_mode": {
    "name": "ipython",
    "version": 2
   },
   "file_extension": ".py",
   "mimetype": "text/x-python",
   "name": "python",
   "nbconvert_exporter": "python",
   "pygments_lexer": "ipython2",
   "version": "2.7.6"
  }
 },
 "nbformat": 4,
 "nbformat_minor": 5
}
